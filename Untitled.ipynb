{
 "cells": [
  {
   "cell_type": "code",
   "execution_count": 2,
   "id": "8bbd492f-c671-41bb-b3ba-558b36cc956c",
   "metadata": {},
   "outputs": [],
   "source": [
    "from sklearn.datasets import load_iris\n",
    "\n",
    "iris = load_iris()\n",
    "X = iris.data\n",
    "Y = iris.target"
   ]
  },
  {
   "cell_type": "code",
   "execution_count": 6,
   "id": "a1208e26-3147-4b64-a50b-ee111c3dfee2",
   "metadata": {},
   "outputs": [],
   "source": [
    "from sklearn.model_selection import train_test_split, GridSearchCV\n",
    "from sklearn.preprocessing import StandardScaler\n",
    "\n",
    "scaler = StandardScaler()\n",
    "X_scaled = scaler.fit_transform(X)\n",
    "\n",
    "X_train, X_test, Y_train, Y_test = train_test_split(X_scaled , Y, test_size=0.2, random_state=42)"
   ]
  },
  {
   "cell_type": "code",
   "execution_count": 7,
   "id": "ecc7c8a3-652c-40be-bc45-7aef4dc3d25d",
   "metadata": {},
   "outputs": [],
   "source": [
    "from sklearn.svm import SVC\n",
    "\n",
    "svc_iris = SVC(kernel='linear', C=1.0, random_state=42)\n",
    "svc_iris.fit(X_train, Y_train)\n",
    "y_svc_iris = svc_iris.predict(X_test)"
   ]
  },
  {
   "cell_type": "code",
   "execution_count": 11,
   "id": "354333aa-7516-47fb-97c5-1ab19b1dba7f",
   "metadata": {},
   "outputs": [
    {
     "name": "stdout",
     "output_type": "stream",
     "text": [
      "Accuracy score for the Linear SVM on Iris dataset is:  0.97\n",
      "\n",
      " Confusion matrix for the Linear SVM on the Iris dataset is:   [[10  0  0]\n",
      " [ 0  8  0]\n",
      " [ 0  1 11]]\n",
      "\n",
      " Classification report for the Linear SVM on the Iris dataset is:                precision    recall  f1-score   support\n",
      "\n",
      "           0       1.00      1.00      1.00        10\n",
      "           1       0.89      1.00      0.94         8\n",
      "           2       1.00      0.92      0.96        12\n",
      "\n",
      "    accuracy                           0.97        30\n",
      "   macro avg       0.96      0.97      0.97        30\n",
      "weighted avg       0.97      0.97      0.97        30\n",
      "\n"
     ]
    }
   ],
   "source": [
    "from sklearn.metrics import accuracy_score, confusion_matrix, classification_report\n",
    "\n",
    "accuracy_svc_iris = accuracy_score(y_svc_iris, Y_test)\n",
    "confusion_iris = confusion_matrix(y_svc_iris, Y_test)\n",
    "\n",
    "print(f\"Accuracy score for the Linear SVM on Iris dataset is: {accuracy_svc_iris: .2f}\")\n",
    "print(\"\\n Confusion matrix for the Linear SVM on the Iris dataset is:  \", confusion_iris)\n",
    "print(\"\\n Classification report for the Linear SVM on the Iris dataset is: \", classification_report(y_svc_iris, Y_test))"
   ]
  },
  {
   "cell_type": "code",
   "execution_count": null,
   "id": "608c6168-70b6-4dac-ac06-e3f2510a23b9",
   "metadata": {},
   "outputs": [],
   "source": []
  }
 ],
 "metadata": {
  "kernelspec": {
   "display_name": "Python 3 (ipykernel)",
   "language": "python",
   "name": "python3"
  },
  "language_info": {
   "codemirror_mode": {
    "name": "ipython",
    "version": 3
   },
   "file_extension": ".py",
   "mimetype": "text/x-python",
   "name": "python",
   "nbconvert_exporter": "python",
   "pygments_lexer": "ipython3",
   "version": "3.10.4"
  }
 },
 "nbformat": 4,
 "nbformat_minor": 5
}
